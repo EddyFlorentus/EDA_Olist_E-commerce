{
  "nbformat": 4,
  "nbformat_minor": 0,
  "metadata": {
    "colab": {
      "provenance": []
    },
    "kernelspec": {
      "name": "python3",
      "display_name": "Python 3"
    },
    "language_info": {
      "name": "python"
    }
  },
  "cells": [
    {
      "cell_type": "markdown",
      "source": [
        "# **Interactive Dashboard**\n",
        "\n",
        "> To see the interactive dashboard click [here](https://app.powerbi.com/view?r=eyJrIjoiYWJhNWZmY2YtYjAzNi00MzdiLWI0ZmQtYmIyMTg3NmMyMzE0IiwidCI6IjAxZjk5ZGY0LTY2MTctNGNjYi1hNjI3LWNkODU2YmEwYTVmOSIsImMiOjEwfQ%3D%3D)"
      ],
      "metadata": {
        "id": "wCo-pFgj1UWP"
      }
    }
  ]
}